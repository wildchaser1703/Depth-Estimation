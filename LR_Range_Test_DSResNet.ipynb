{
  "nbformat": 4,
  "nbformat_minor": 0,
  "metadata": {
    "colab": {
      "name": "LR Range Test - DSResNet.ipynb",
      "provenance": [],
      "collapsed_sections": [],
      "toc_visible": true,
      "machine_shape": "hm"
    },
    "kernelspec": {
      "name": "python3",
      "display_name": "Python 3"
    },
    "accelerator": "GPU"
  },
  "cells": [
    {
      "cell_type": "markdown",
      "metadata": {
        "id": "-WfNbKdvZ0Yp",
        "colab_type": "text"
      },
      "source": [
        "# Download the Dataset\n",
        "\n",
        "Download the dataset from this link: https://www.kaggle.com/shanwizard/modest-museum-dataset\n",
        "\n",
        "## Dataset Description\n",
        "\n",
        "Description of the contents of the dataset can be found here: https://shan18.github.io/MODEST-Museum-Dataset"
      ]
    },
    {
      "cell_type": "markdown",
      "metadata": {
        "id": "fMsMe9ezze7p",
        "colab_type": "text"
      },
      "source": [
        "### Mount Google Drive (Works only on Google Colab)\n",
        "\n",
        "For running the notebook on Google Colab, upload the dataset into you Google Drive and execute the two cells below"
      ]
    },
    {
      "cell_type": "code",
      "metadata": {
        "id": "_Q-ZyF5zjEPU",
        "colab_type": "code",
        "outputId": "1497381c-8480-4251-916c-b82a1858f514",
        "colab": {
          "base_uri": "https://localhost:8080/",
          "height": 125
        }
      },
      "source": [
        "from google.colab import drive\n",
        "drive.mount('/content/gdrive')"
      ],
      "execution_count": 0,
      "outputs": [
        {
          "output_type": "stream",
          "text": [
            "Go to this URL in a browser: https://accounts.google.com/o/oauth2/auth?client_id=947318989803-6bn6qk8qdgf4n4g3pfee6491hc0brc4i.apps.googleusercontent.com&redirect_uri=urn%3aietf%3awg%3aoauth%3a2.0%3aoob&response_type=code&scope=email%20https%3a%2f%2fwww.googleapis.com%2fauth%2fdocs.test%20https%3a%2f%2fwww.googleapis.com%2fauth%2fdrive%20https%3a%2f%2fwww.googleapis.com%2fauth%2fdrive.photos.readonly%20https%3a%2f%2fwww.googleapis.com%2fauth%2fpeopleapi.readonly\n",
            "\n",
            "Enter your authorization code:\n",
            "··········\n",
            "Mounted at /content/gdrive\n"
          ],
          "name": "stdout"
        }
      ]
    },
    {
      "cell_type": "markdown",
      "metadata": {
        "id": "PxaRo2DkZcNu",
        "colab_type": "text"
      },
      "source": [
        "Unzip the data from Google Drive into Colab"
      ]
    },
    {
      "cell_type": "code",
      "metadata": {
        "id": "FX2zEVIXdSZp",
        "colab_type": "code",
        "colab": {}
      },
      "source": [
        "!unzip -qq '/content/gdrive/My Drive/modest_museum_dataset.zip' -d ."
      ],
      "execution_count": 0,
      "outputs": []
    },
    {
      "cell_type": "markdown",
      "metadata": {
        "id": "im9L6a37x35d",
        "colab_type": "text"
      },
      "source": [
        "### Check GPU"
      ]
    },
    {
      "cell_type": "code",
      "metadata": {
        "id": "OAzuVm9eZZBk",
        "colab_type": "code",
        "outputId": "2f61d71e-ab08-4078-96b2-da12be9d1340",
        "colab": {
          "base_uri": "https://localhost:8080/",
          "height": 318
        }
      },
      "source": [
        "!nvidia-smi"
      ],
      "execution_count": 0,
      "outputs": [
        {
          "output_type": "stream",
          "text": [
            "Mon May 25 03:45:06 2020       \n",
            "+-----------------------------------------------------------------------------+\n",
            "| NVIDIA-SMI 440.82       Driver Version: 418.67       CUDA Version: 10.1     |\n",
            "|-------------------------------+----------------------+----------------------+\n",
            "| GPU  Name        Persistence-M| Bus-Id        Disp.A | Volatile Uncorr. ECC |\n",
            "| Fan  Temp  Perf  Pwr:Usage/Cap|         Memory-Usage | GPU-Util  Compute M. |\n",
            "|===============================+======================+======================|\n",
            "|   0  Tesla P100-PCIE...  Off  | 00000000:00:04.0 Off |                    0 |\n",
            "| N/A   42C    P0    27W / 250W |      0MiB / 16280MiB |      0%      Default |\n",
            "+-------------------------------+----------------------+----------------------+\n",
            "                                                                               \n",
            "+-----------------------------------------------------------------------------+\n",
            "| Processes:                                                       GPU Memory |\n",
            "|  GPU       PID   Type   Process name                             Usage      |\n",
            "|=============================================================================|\n",
            "|  No running processes found                                                 |\n",
            "+-----------------------------------------------------------------------------+\n"
          ],
          "name": "stdout"
        }
      ]
    },
    {
      "cell_type": "markdown",
      "metadata": {
        "id": "NrjhHwyGhDkL",
        "colab_type": "text"
      },
      "source": [
        "# Install Packages"
      ]
    },
    {
      "cell_type": "code",
      "metadata": {
        "id": "FpnEKejhGYOV",
        "colab_type": "code",
        "colab": {}
      },
      "source": [
        "!pip install -r requirements.txt"
      ],
      "execution_count": 0,
      "outputs": []
    },
    {
      "cell_type": "markdown",
      "metadata": {
        "id": "NpMD_RLnhAFp",
        "colab_type": "text"
      },
      "source": [
        "# Import Packages"
      ]
    },
    {
      "cell_type": "code",
      "metadata": {
        "id": "YirjGgAQ-1nI",
        "colab_type": "code",
        "colab": {}
      },
      "source": [
        "%matplotlib inline\n",
        "\n",
        "import random\n",
        "import matplotlib.pyplot as plt\n",
        "import torch\n",
        "\n",
        "from tensornet.data import MODESTMuseum\n",
        "from tensornet.utils import initialize_cuda, plot_metric\n",
        "from tensornet.model import DSResNet\n",
        "from tensornet.model.optimizer import sgd\n",
        "from tensornet.engine import LRFinder\n",
        "from tensornet.engine.ops import ModelCheckpoint, TensorBoard\n",
        "from tensornet.engine.ops.lr_scheduler import reduce_lr_on_plateau\n",
        "from loss import RmseBceDiceLoss, SsimDiceLoss\n",
        "from learner import ModelLearner"
      ],
      "execution_count": 0,
      "outputs": []
    },
    {
      "cell_type": "markdown",
      "metadata": {
        "id": "Ve_XDp27GSN_",
        "colab_type": "text"
      },
      "source": [
        "# Set Seed and Get GPU Availability"
      ]
    },
    {
      "cell_type": "code",
      "metadata": {
        "id": "4b0ox87Bf_Kw",
        "colab_type": "code",
        "outputId": "4c082064-f02d-4374-c9ea-c7803b78ac8e",
        "colab": {
          "base_uri": "https://localhost:8080/",
          "height": 34
        }
      },
      "source": [
        "# Initialize CUDA and set random seed\n",
        "cuda, device = initialize_cuda(1)"
      ],
      "execution_count": 0,
      "outputs": [
        {
          "output_type": "stream",
          "text": [
            "GPU Available? True\n"
          ],
          "name": "stdout"
        }
      ]
    },
    {
      "cell_type": "markdown",
      "metadata": {
        "id": "jugzRPudr2MW",
        "colab_type": "text"
      },
      "source": [
        "# Data Fetch"
      ]
    },
    {
      "cell_type": "code",
      "metadata": {
        "id": "stX-V14hhaOm",
        "colab_type": "code",
        "colab": {}
      },
      "source": [
        "DATASET_PATH = 'modest_museum_dataset'\n",
        "\n",
        "# Common parameter values for the dataset\n",
        "dataset_params = dict(\n",
        "    cuda=cuda,\n",
        "    num_workers=16,\n",
        "    path=DATASET_PATH,\n",
        "    hue_saturation_prob=0.25,\n",
        "    contrast_prob=0.25,\n",
        ")"
      ],
      "execution_count": 0,
      "outputs": []
    },
    {
      "cell_type": "code",
      "metadata": {
        "id": "KtiTwFFtAXMm",
        "colab_type": "code",
        "outputId": "687b6410-4340-4cf8-b166-857af379f899",
        "colab": {
          "base_uri": "https://localhost:8080/",
          "height": 52
        }
      },
      "source": [
        "%%time\n",
        "# Create dataset\n",
        "dataset = MODESTMuseum(\n",
        "    train_batch_size=256,\n",
        "    val_batch_size=256,\n",
        "    resize=(96, 96),\n",
        "    **dataset_params\n",
        ")\n",
        "\n",
        "# Create train data loader\n",
        "train_loader = dataset.loader(train=True)\n",
        "\n",
        "# Create val data loader\n",
        "val_loader = dataset.loader(train=False)"
      ],
      "execution_count": 0,
      "outputs": [
        {
          "output_type": "stream",
          "text": [
            "CPU times: user 8 s, sys: 578 ms, total: 8.58 s\n",
            "Wall time: 8.58 s\n"
          ],
          "name": "stdout"
        }
      ]
    },
    {
      "cell_type": "markdown",
      "metadata": {
        "id": "HSeDIqBq-6pC",
        "colab_type": "text"
      },
      "source": [
        "# Model Architecture and Summary"
      ]
    },
    {
      "cell_type": "code",
      "metadata": {
        "id": "Dwfcp3uHQtSt",
        "colab_type": "code",
        "outputId": "6848e473-3685-461e-87dd-c8495622165d",
        "colab": {
          "base_uri": "https://localhost:8080/",
          "height": 1000
        }
      },
      "source": [
        "%%time\n",
        "model = DSResNet().to(device)\n",
        "model.summary({\n",
        "    k: v for k, v in dataset.image_size.items() if k in ['bg', 'bg_fg']\n",
        "})"
      ],
      "execution_count": 0,
      "outputs": [
        {
          "output_type": "stream",
          "text": [
            "----------------------------------------------------------------\n",
            "        Layer (type)               Output Shape         Param #\n",
            "================================================================\n",
            "            Conv2d-1         [-1, 16, 224, 224]              64\n",
            "            Conv2d-2         [-1, 16, 224, 224]             448\n",
            "              ReLU-3         [-1, 16, 224, 224]               0\n",
            "       BatchNorm2d-4         [-1, 16, 224, 224]              32\n",
            "            Conv2d-5         [-1, 16, 224, 224]           2,320\n",
            "              ReLU-6         [-1, 16, 224, 224]               0\n",
            "       BatchNorm2d-7         [-1, 16, 224, 224]              32\n",
            "   DoubleConvBlock-8         [-1, 16, 224, 224]               0\n",
            "         MaxPool2d-9         [-1, 16, 112, 112]               0\n",
            "  ResEncoderBlock-10  [[-1, 16, 112, 112], [-1, 16, 224, 224]]               0\n",
            "           Conv2d-11         [-1, 32, 112, 112]             544\n",
            "           Conv2d-12         [-1, 32, 112, 112]           4,640\n",
            "             ReLU-13         [-1, 32, 112, 112]               0\n",
            "      BatchNorm2d-14         [-1, 32, 112, 112]              64\n",
            "           Conv2d-15         [-1, 32, 112, 112]           9,248\n",
            "             ReLU-16         [-1, 32, 112, 112]               0\n",
            "      BatchNorm2d-17         [-1, 32, 112, 112]              64\n",
            "  DoubleConvBlock-18         [-1, 32, 112, 112]               0\n",
            "        MaxPool2d-19           [-1, 32, 56, 56]               0\n",
            "  ResEncoderBlock-20  [[-1, 32, 56, 56], [-1, 32, 112, 112]]               0\n",
            "           Conv2d-21         [-1, 16, 224, 224]              64\n",
            "           Conv2d-22         [-1, 16, 224, 224]             448\n",
            "             ReLU-23         [-1, 16, 224, 224]               0\n",
            "      BatchNorm2d-24         [-1, 16, 224, 224]              32\n",
            "           Conv2d-25         [-1, 16, 224, 224]           2,320\n",
            "             ReLU-26         [-1, 16, 224, 224]               0\n",
            "      BatchNorm2d-27         [-1, 16, 224, 224]              32\n",
            "  DoubleConvBlock-28         [-1, 16, 224, 224]               0\n",
            "        MaxPool2d-29         [-1, 16, 112, 112]               0\n",
            "  ResEncoderBlock-30  [[-1, 16, 112, 112], [-1, 16, 224, 224]]               0\n",
            "           Conv2d-31         [-1, 32, 112, 112]             544\n",
            "           Conv2d-32         [-1, 32, 112, 112]           4,640\n",
            "             ReLU-33         [-1, 32, 112, 112]               0\n",
            "      BatchNorm2d-34         [-1, 32, 112, 112]              64\n",
            "           Conv2d-35         [-1, 32, 112, 112]           9,248\n",
            "             ReLU-36         [-1, 32, 112, 112]               0\n",
            "      BatchNorm2d-37         [-1, 32, 112, 112]              64\n",
            "  DoubleConvBlock-38         [-1, 32, 112, 112]               0\n",
            "        MaxPool2d-39           [-1, 32, 56, 56]               0\n",
            "  ResEncoderBlock-40  [[-1, 32, 56, 56], [-1, 32, 112, 112]]               0\n",
            "           Conv2d-41           [-1, 32, 56, 56]           2,080\n",
            "           Conv2d-42           [-1, 64, 56, 56]           2,112\n",
            "           Conv2d-43           [-1, 64, 56, 56]          18,496\n",
            "             ReLU-44           [-1, 64, 56, 56]               0\n",
            "      BatchNorm2d-45           [-1, 64, 56, 56]             128\n",
            "           Conv2d-46           [-1, 64, 56, 56]          36,928\n",
            "             ReLU-47           [-1, 64, 56, 56]               0\n",
            "      BatchNorm2d-48           [-1, 64, 56, 56]             128\n",
            "  DoubleConvBlock-49           [-1, 64, 56, 56]               0\n",
            "        MaxPool2d-50           [-1, 64, 28, 28]               0\n",
            "  ResEncoderBlock-51  [[-1, 64, 28, 28], [-1, 64, 56, 56]]               0\n",
            "           Conv2d-52          [-1, 128, 28, 28]           8,320\n",
            "           Conv2d-53          [-1, 128, 28, 28]          73,856\n",
            "             ReLU-54          [-1, 128, 28, 28]               0\n",
            "      BatchNorm2d-55          [-1, 128, 28, 28]             256\n",
            "           Conv2d-56          [-1, 128, 28, 28]         147,584\n",
            "             ReLU-57          [-1, 128, 28, 28]               0\n",
            "      BatchNorm2d-58          [-1, 128, 28, 28]             256\n",
            "  DoubleConvBlock-59          [-1, 128, 28, 28]               0\n",
            "        MaxPool2d-60          [-1, 128, 14, 14]               0\n",
            "  ResEncoderBlock-61  [[-1, 128, 14, 14], [-1, 128, 28, 28]]               0\n",
            "           Conv2d-62          [-1, 256, 14, 14]          33,024\n",
            "           Conv2d-63          [-1, 256, 14, 14]         295,168\n",
            "             ReLU-64          [-1, 256, 14, 14]               0\n",
            "      BatchNorm2d-65          [-1, 256, 14, 14]             512\n",
            "           Conv2d-66          [-1, 256, 14, 14]         590,080\n",
            "             ReLU-67          [-1, 256, 14, 14]               0\n",
            "      BatchNorm2d-68          [-1, 256, 14, 14]             512\n",
            "  DoubleConvBlock-69          [-1, 256, 14, 14]               0\n",
            "        MaxPool2d-70            [-1, 256, 7, 7]               0\n",
            "  ResEncoderBlock-71  [[-1, 256, 7, 7], [-1, 256, 14, 14]]               0\n",
            "           Conv2d-72            [-1, 512, 7, 7]         131,584\n",
            "           Conv2d-73            [-1, 512, 7, 7]       1,180,160\n",
            "             ReLU-74            [-1, 512, 7, 7]               0\n",
            "      BatchNorm2d-75            [-1, 512, 7, 7]           1,024\n",
            "           Conv2d-76            [-1, 512, 7, 7]       2,359,808\n",
            "             ReLU-77            [-1, 512, 7, 7]               0\n",
            "      BatchNorm2d-78            [-1, 512, 7, 7]           1,024\n",
            "  DoubleConvBlock-79            [-1, 512, 7, 7]               0\n",
            "        MaxPool2d-80            [-1, 512, 3, 3]               0\n",
            "  ResEncoderBlock-81  [[-1, 512, 3, 3], [-1, 512, 7, 7]]               0\n",
            "           Conv2d-82            [-1, 256, 7, 7]         131,328\n",
            "           Conv2d-83          [-1, 256, 14, 14]         131,328\n",
            "           Conv2d-84          [-1, 256, 14, 14]       1,179,904\n",
            "             ReLU-85          [-1, 256, 14, 14]               0\n",
            "      BatchNorm2d-86          [-1, 256, 14, 14]             512\n",
            "           Conv2d-87          [-1, 256, 14, 14]         590,080\n",
            "             ReLU-88          [-1, 256, 14, 14]               0\n",
            "      BatchNorm2d-89          [-1, 256, 14, 14]             512\n",
            "  DoubleConvBlock-90          [-1, 256, 14, 14]               0\n",
            "  ResDecoderBlock-91          [-1, 256, 14, 14]               0\n",
            "           Conv2d-92          [-1, 128, 14, 14]          32,896\n",
            "           Conv2d-93          [-1, 128, 28, 28]          32,896\n",
            "           Conv2d-94          [-1, 128, 28, 28]         295,040\n",
            "             ReLU-95          [-1, 128, 28, 28]               0\n",
            "      BatchNorm2d-96          [-1, 128, 28, 28]             256\n",
            "           Conv2d-97          [-1, 128, 28, 28]         147,584\n",
            "             ReLU-98          [-1, 128, 28, 28]               0\n",
            "      BatchNorm2d-99          [-1, 128, 28, 28]             256\n",
            " DoubleConvBlock-100          [-1, 128, 28, 28]               0\n",
            " ResDecoderBlock-101          [-1, 128, 28, 28]               0\n",
            "          Conv2d-102           [-1, 64, 28, 28]           8,256\n",
            "          Conv2d-103           [-1, 64, 56, 56]           8,256\n",
            "          Conv2d-104           [-1, 64, 56, 56]          73,792\n",
            "            ReLU-105           [-1, 64, 56, 56]               0\n",
            "     BatchNorm2d-106           [-1, 64, 56, 56]             128\n",
            "          Conv2d-107           [-1, 64, 56, 56]          36,928\n",
            "            ReLU-108           [-1, 64, 56, 56]               0\n",
            "     BatchNorm2d-109           [-1, 64, 56, 56]             128\n",
            " DoubleConvBlock-110           [-1, 64, 56, 56]               0\n",
            " ResDecoderBlock-111           [-1, 64, 56, 56]               0\n",
            "          Conv2d-112           [-1, 32, 56, 56]           2,080\n",
            "          Conv2d-113         [-1, 32, 112, 112]           2,080\n",
            "          Conv2d-114         [-1, 32, 112, 112]           2,080\n",
            "          Conv2d-115         [-1, 32, 112, 112]          18,464\n",
            "            ReLU-116         [-1, 32, 112, 112]               0\n",
            "     BatchNorm2d-117         [-1, 32, 112, 112]              64\n",
            "          Conv2d-118         [-1, 32, 112, 112]           9,248\n",
            "            ReLU-119         [-1, 32, 112, 112]               0\n",
            "     BatchNorm2d-120         [-1, 32, 112, 112]              64\n",
            " DoubleConvBlock-121         [-1, 32, 112, 112]               0\n",
            " ResDecoderBlock-122         [-1, 32, 112, 112]               0\n",
            "          Conv2d-123         [-1, 16, 112, 112]             528\n",
            "          Conv2d-124         [-1, 16, 224, 224]             528\n",
            "          Conv2d-125         [-1, 16, 224, 224]             528\n",
            "          Conv2d-126         [-1, 16, 224, 224]           4,624\n",
            "            ReLU-127         [-1, 16, 224, 224]               0\n",
            "     BatchNorm2d-128         [-1, 16, 224, 224]              32\n",
            "          Conv2d-129         [-1, 16, 224, 224]           2,320\n",
            "            ReLU-130         [-1, 16, 224, 224]               0\n",
            "     BatchNorm2d-131         [-1, 16, 224, 224]              32\n",
            " DoubleConvBlock-132         [-1, 16, 224, 224]               0\n",
            " ResDecoderBlock-133         [-1, 16, 224, 224]               0\n",
            "          Conv2d-134          [-1, 1, 224, 224]              17\n",
            "          Conv2d-135            [-1, 256, 7, 7]         131,328\n",
            "          Conv2d-136          [-1, 256, 14, 14]         131,328\n",
            "          Conv2d-137          [-1, 256, 14, 14]       1,179,904\n",
            "            ReLU-138          [-1, 256, 14, 14]               0\n",
            "     BatchNorm2d-139          [-1, 256, 14, 14]             512\n",
            "          Conv2d-140          [-1, 256, 14, 14]         590,080\n",
            "            ReLU-141          [-1, 256, 14, 14]               0\n",
            "     BatchNorm2d-142          [-1, 256, 14, 14]             512\n",
            " DoubleConvBlock-143          [-1, 256, 14, 14]               0\n",
            " ResDecoderBlock-144          [-1, 256, 14, 14]               0\n",
            "          Conv2d-145          [-1, 128, 14, 14]          32,896\n",
            "          Conv2d-146          [-1, 128, 28, 28]          32,896\n",
            "          Conv2d-147          [-1, 128, 28, 28]         295,040\n",
            "            ReLU-148          [-1, 128, 28, 28]               0\n",
            "     BatchNorm2d-149          [-1, 128, 28, 28]             256\n",
            "          Conv2d-150          [-1, 128, 28, 28]         147,584\n",
            "            ReLU-151          [-1, 128, 28, 28]               0\n",
            "     BatchNorm2d-152          [-1, 128, 28, 28]             256\n",
            " DoubleConvBlock-153          [-1, 128, 28, 28]               0\n",
            " ResDecoderBlock-154          [-1, 128, 28, 28]               0\n",
            "          Conv2d-155           [-1, 64, 28, 28]           8,256\n",
            "          Conv2d-156           [-1, 64, 56, 56]           8,256\n",
            "          Conv2d-157           [-1, 64, 56, 56]          73,792\n",
            "            ReLU-158           [-1, 64, 56, 56]               0\n",
            "     BatchNorm2d-159           [-1, 64, 56, 56]             128\n",
            "          Conv2d-160           [-1, 64, 56, 56]          36,928\n",
            "            ReLU-161           [-1, 64, 56, 56]               0\n",
            "     BatchNorm2d-162           [-1, 64, 56, 56]             128\n",
            " DoubleConvBlock-163           [-1, 64, 56, 56]               0\n",
            " ResDecoderBlock-164           [-1, 64, 56, 56]               0\n",
            "          Conv2d-165           [-1, 32, 56, 56]           2,080\n",
            "          Conv2d-166         [-1, 32, 112, 112]           2,080\n",
            "          Conv2d-167         [-1, 32, 112, 112]           2,080\n",
            "          Conv2d-168         [-1, 32, 112, 112]          18,464\n",
            "            ReLU-169         [-1, 32, 112, 112]               0\n",
            "     BatchNorm2d-170         [-1, 32, 112, 112]              64\n",
            "          Conv2d-171         [-1, 32, 112, 112]           9,248\n",
            "            ReLU-172         [-1, 32, 112, 112]               0\n",
            "     BatchNorm2d-173         [-1, 32, 112, 112]              64\n",
            " DoubleConvBlock-174         [-1, 32, 112, 112]               0\n",
            " ResDecoderBlock-175         [-1, 32, 112, 112]               0\n",
            "          Conv2d-176         [-1, 16, 112, 112]             528\n",
            "          Conv2d-177         [-1, 16, 224, 224]             528\n",
            "          Conv2d-178         [-1, 16, 224, 224]             528\n",
            "          Conv2d-179         [-1, 16, 224, 224]           4,624\n",
            "            ReLU-180         [-1, 16, 224, 224]               0\n",
            "     BatchNorm2d-181         [-1, 16, 224, 224]              32\n",
            "          Conv2d-182         [-1, 16, 224, 224]           2,320\n",
            "            ReLU-183         [-1, 16, 224, 224]               0\n",
            "     BatchNorm2d-184         [-1, 16, 224, 224]              32\n",
            " DoubleConvBlock-185         [-1, 16, 224, 224]               0\n",
            " ResDecoderBlock-186         [-1, 16, 224, 224]               0\n",
            "          Conv2d-187          [-1, 1, 224, 224]              17\n",
            "      DSResNetv1-188  [[-1, 1, 224, 224], [-1, 1, 224, 224]]               0\n",
            "================================================================\n",
            "Total params: 10,343,490\n",
            "Trainable params: 10,343,490\n",
            "Non-trainable params: 0\n",
            "----------------------------------------------------------------\n",
            "Input size (MB): 86436.00\n",
            "Forward/backward pass size (MB): 3193797.28\n",
            "Params size (MB): 39.46\n",
            "Estimated Total Size (MB): 3280272.75\n",
            "----------------------------------------------------------------\n",
            "\n",
            "CPU times: user 2.46 s, sys: 1.03 s, total: 3.49 s\n",
            "Wall time: 3.49 s\n"
          ],
          "name": "stdout"
        }
      ]
    },
    {
      "cell_type": "markdown",
      "metadata": {
        "id": "7u8nLhsRvZ9W",
        "colab_type": "text"
      },
      "source": [
        "# Find Initial Learning Rate\n",
        "\n",
        "Multiple LR Range Test are done on the model to find the best initial learning rate."
      ]
    },
    {
      "cell_type": "markdown",
      "metadata": {
        "id": "1vWUxjuM_K97",
        "colab_type": "text"
      },
      "source": [
        "## Range Test 1"
      ]
    },
    {
      "cell_type": "code",
      "metadata": {
        "id": "Nd4dEmFPvd6Y",
        "colab_type": "code",
        "outputId": "fd8d260f-5b64-41a4-bf7e-a248a03ba937",
        "colab": {
          "base_uri": "https://localhost:8080/",
          "height": 105
        }
      },
      "source": [
        "model = DSResNet().to(device)  # Create model\n",
        "optimizer = sgd(model, 1e-7, 0.9)  # Create optimizer\n",
        "criterion = RmseBceDiceLoss()  # Create loss function\n",
        "\n",
        "# Find learning rate\n",
        "lr_finder = LRFinder(model, optimizer, criterion, device=device)\n",
        "lr_finder.range_test(train_loader, 400, learner=ModelLearner, start_lr=1e-7, end_lr=5, step_mode='exp')"
      ],
      "execution_count": 0,
      "outputs": [
        {
          "output_type": "stream",
          "text": [
            "Iterations\n",
            "399/400 [======>.] - ETA: 0s - lr: 0.0738 - Loss: 2.2148 \n",
            "Stopping early, the loss has diverged.\n",
            "400/400 [========] - 271s 677ms/step - lr: 0.0743 - Loss: 2.2103\n",
            "Learning rate search finished.\n"
          ],
          "name": "stdout"
        }
      ]
    },
    {
      "cell_type": "code",
      "metadata": {
        "id": "xva79rJ9wa2A",
        "colab_type": "code",
        "outputId": "ae4e1d45-27a1-4f1e-8408-8c6339e79c15",
        "colab": {
          "base_uri": "https://localhost:8080/",
          "height": 318
        }
      },
      "source": [
        "# Get best initial learning rate\n",
        "initial_lr = lr_finder.best_lr\n",
        "\n",
        "# Print learning rate and loss\n",
        "print('Learning Rate:', initial_lr)\n",
        "print('Loss:', lr_finder.best_metric)\n",
        "\n",
        "# Plot learning rate vs loss\n",
        "lr_finder.plot()\n",
        "\n",
        "# Reset graph\n",
        "lr_finder.reset()"
      ],
      "execution_count": 0,
      "outputs": [
        {
          "output_type": "stream",
          "text": [
            "Learning Rate: 0.2804706226423061\n",
            "Loss: 0.39172855019569397\n"
          ],
          "name": "stdout"
        },
        {
          "output_type": "display_data",
          "data": {
            "image/png": "[encoded data removed]",
            "text/plain": [
              "<Figure size 432x288 with 1 Axes>"
            ]
          },
          "metadata": {
            "tags": [],
            "needs_background": "light"
          }
        }
      ]
    },
    {
      "cell_type": "markdown",
      "metadata": {
        "colab_type": "text",
        "id": "Hy-y6ZZR_QhQ"
      },
      "source": [
        "## Range Test 2"
      ]
    },
    {
      "cell_type": "code",
      "metadata": {
        "colab_type": "code",
        "outputId": "2c899255-d447-4771-e19d-0f54362cbb1b",
        "id": "8ChTqZV0-Qn8",
        "colab": {
          "base_uri": "https://localhost:8080/",
          "height": 105
        }
      },
      "source": [
        "model = DSResNet().to(device)  # Create model\n",
        "optimizer = sgd(model, 1e-5, 0.9)  # Create optimizer\n",
        "criterion = RmseBceDiceLoss()  # Create loss function\n",
        "\n",
        "# Find learning rate\n",
        "lr_finder = LRFinder(model, optimizer, criterion, device=device)\n",
        "lr_finder.range_test(train_loader, 400, learner=ModelLearner, start_lr=1e-5, end_lr=1, step_mode='exp')"
      ],
      "execution_count": 0,
      "outputs": [
        {
          "output_type": "stream",
          "text": [
            "Iterations\n",
            "399/400 [======>.] - ETA: 0s - lr: 0.0348 - Loss: 2.0495 \n",
            "Stopping early, the loss has diverged.\n",
            "400/400 [========] - 259s 648ms/step - lr: 0.0350 - Loss: 2.0451\n",
            "Learning rate search finished.\n"
          ],
          "name": "stdout"
        }
      ]
    },
    {
      "cell_type": "code",
      "metadata": {
        "colab_type": "code",
        "outputId": "9a52905a-7bdd-44b5-dd56-5034b2f7b33a",
        "id": "hh48bOOw-QoC",
        "colab": {
          "base_uri": "https://localhost:8080/",
          "height": 322
        }
      },
      "source": [
        "# Get best initial learning rate\n",
        "initial_lr = lr_finder.best_lr\n",
        "\n",
        "# Print learning rate and loss\n",
        "print('Learning Rate:', initial_lr)\n",
        "print('Loss:', lr_finder.best_metric)\n",
        "\n",
        "# Plot learning rate vs loss\n",
        "lr_finder.plot()\n",
        "\n",
        "# Reset graph\n",
        "lr_finder.reset()"
      ],
      "execution_count": 0,
      "outputs": [
        {
          "output_type": "stream",
          "text": [
            "Learning Rate: 0.10901844923851275\n",
            "Loss: 0.29762303829193115\n"
          ],
          "name": "stdout"
        },
        {
          "output_type": "display_data",
          "data": {
            "image/png": "[encoded data removed]",
            "text/plain": [
              "<Figure size 432x288 with 1 Axes>"
            ]
          },
          "metadata": {
            "tags": [],
            "needs_background": "light"
          }
        }
      ]
    },
    {
      "cell_type": "markdown",
      "metadata": {
        "colab_type": "text",
        "id": "NJ20kbBQ__U9"
      },
      "source": [
        "## Range Test 3"
      ]
    },
    {
      "cell_type": "code",
      "metadata": {
        "colab_type": "code",
        "outputId": "cdca4c01-c9bd-4b76-dc2f-b015aeba59d9",
        "id": "ApboHwGX__U-",
        "colab": {
          "base_uri": "https://localhost:8080/",
          "height": 105
        }
      },
      "source": [
        "model = DSResNet().to(device)  # Create model\n",
        "optimizer = sgd(model, 1e-4, 0.9)  # Create optimizer\n",
        "criterion = RmseBceDiceLoss()  # Create loss function\n",
        "\n",
        "# Find learning rate\n",
        "lr_finder = LRFinder(model, optimizer, criterion, device=device)\n",
        "lr_finder.range_test(train_loader, 200, learner=ModelLearner, start_lr=1e-4, end_lr=10, step_mode='exp')"
      ],
      "execution_count": 0,
      "outputs": [
        {
          "output_type": "stream",
          "text": [
            "Iterations\n",
            "199/200 [======>.] - ETA: 0s - lr: 0.2032 - Loss: 1.8585 \n",
            "Stopping early, the loss has diverged.\n",
            "200/200 [========] - 125s 623ms/step - lr: 0.2044 - Loss: 1.8511\n",
            "Learning rate search finished.\n"
          ],
          "name": "stdout"
        }
      ]
    },
    {
      "cell_type": "code",
      "metadata": {
        "colab_type": "code",
        "id": "fZr_qF7e__VC",
        "outputId": "aa02e442-2d0c-438a-ac51-67bad6f0ea32",
        "colab": {
          "base_uri": "https://localhost:8080/",
          "height": 318
        }
      },
      "source": [
        "# Get best initial learning rate\n",
        "initial_lr = lr_finder.best_lr\n",
        "\n",
        "# Print learning rate and loss\n",
        "print('Learning Rate:', initial_lr)\n",
        "print('Loss:', lr_finder.best_metric)\n",
        "\n",
        "# Plot learning rate vs loss\n",
        "lr_finder.plot()\n",
        "\n",
        "# Reset graph\n",
        "lr_finder.reset()"
      ],
      "execution_count": 0,
      "outputs": [
        {
          "output_type": "stream",
          "text": [
            "Learning Rate: 0.4466835921509631\n",
            "Loss: 0.3652718663215637\n"
          ],
          "name": "stdout"
        },
        {
          "output_type": "display_data",
          "data": {
            "image/png": "[encoded data removed]",
            "text/plain": [
              "<Figure size 432x288 with 1 Axes>"
            ]
          },
          "metadata": {
            "tags": [],
            "needs_background": "light"
          }
        }
      ]
    },
    {
      "cell_type": "markdown",
      "metadata": {
        "colab_type": "text",
        "id": "p4acG90KANea"
      },
      "source": [
        "## Range Test 4"
      ]
    },
    {
      "cell_type": "code",
      "metadata": {
        "colab_type": "code",
        "id": "Ylw7J4ISANeb",
        "outputId": "4ed09f63-acab-4bfc-a9c5-cd04b0ecfd8e",
        "colab": {
          "base_uri": "https://localhost:8080/",
          "height": 105
        }
      },
      "source": [
        "model = DSResNet().to(device)  # Create model\n",
        "optimizer = sgd(model, 1e-5, 0.9)  # Create optimizer\n",
        "criterion = RmseBceDiceLoss()  # Create loss function\n",
        "\n",
        "# Find learning rate\n",
        "lr_finder = LRFinder(model, optimizer, criterion, device=device)\n",
        "lr_finder.range_test(train_loader, 100, learner=ModelLearner, start_lr=1e-5, end_lr=2, step_mode='exp')"
      ],
      "execution_count": 0,
      "outputs": [
        {
          "output_type": "stream",
          "text": [
            "Iterations\n",
            " 99/100 [======>.] - ETA: 0s - lr: 0.0867 - Loss: 3.1983 \n",
            "Stopping early, the loss has diverged.\n",
            "100/100 [========] - 75s 753ms/step - lr: 0.0883 - Loss: 3.1749\n",
            "Learning rate search finished.\n"
          ],
          "name": "stdout"
        }
      ]
    },
    {
      "cell_type": "code",
      "metadata": {
        "colab_type": "code",
        "id": "Jq_I3pJlANeg",
        "outputId": "84ed3968-e8c7-4b5b-a6ec-70d32fbea418",
        "colab": {
          "base_uri": "https://localhost:8080/",
          "height": 318
        }
      },
      "source": [
        "# Get best initial learning rate\n",
        "initial_lr = lr_finder.best_lr\n",
        "\n",
        "# Print learning rate and loss\n",
        "print('Learning Rate:', initial_lr)\n",
        "print('Loss:', lr_finder.best_metric)\n",
        "\n",
        "# Plot learning rate vs loss\n",
        "lr_finder.plot()\n",
        "\n",
        "# Reset graph\n",
        "lr_finder.reset()"
      ],
      "execution_count": 0,
      "outputs": [
        {
          "output_type": "stream",
          "text": [
            "Learning Rate: 0.2511047316821864\n",
            "Loss: 0.8588053584098816\n"
          ],
          "name": "stdout"
        },
        {
          "output_type": "display_data",
          "data": {
            "image/png": "[encoded data removed]",
            "text/plain": [
              "<Figure size 432x288 with 1 Axes>"
            ]
          },
          "metadata": {
            "tags": [],
            "needs_background": "light"
          }
        }
      ]
    },
    {
      "cell_type": "markdown",
      "metadata": {
        "colab_type": "text",
        "id": "CTH2cd4TFU-1"
      },
      "source": [
        "## Range Test 5"
      ]
    },
    {
      "cell_type": "code",
      "metadata": {
        "colab_type": "code",
        "outputId": "1e2bfcb8-8790-46c9-d462-50b534468553",
        "id": "1fTg3LD8FU-4",
        "colab": {
          "base_uri": "https://localhost:8080/",
          "height": 105
        }
      },
      "source": [
        "model = DSResNet().to(device)  # Create model\n",
        "optimizer = sgd(model, 1e-7, 0.9)  # Create optimizer\n",
        "criterion = RmseBceDiceLoss()  # Create loss function\n",
        "\n",
        "# Find learning rate\n",
        "lr_finder = LRFinder(model, optimizer, criterion, device=device)\n",
        "lr_finder.range_test(train_loader, 400, learner=ModelLearner, start_lr=1e-7, end_lr=10, step_mode='exp')"
      ],
      "execution_count": 0,
      "outputs": [
        {
          "output_type": "stream",
          "text": [
            "Iterations\n",
            "399/400 [======>.] - ETA: 0s - lr: 0.1034 - Loss: 2.3108 \n",
            "Stopping early, the loss has diverged.\n",
            "400/400 [========] - 262s 656ms/step - lr: 0.1038 - Loss: 2.3058\n",
            "Learning rate search finished.\n"
          ],
          "name": "stdout"
        }
      ]
    },
    {
      "cell_type": "code",
      "metadata": {
        "colab_type": "code",
        "outputId": "b132a67e-6e04-4ace-a728-4163f973072f",
        "id": "fQPvJCWKFU-9",
        "colab": {
          "base_uri": "https://localhost:8080/",
          "height": 318
        }
      },
      "source": [
        "# Get best initial learning rate\n",
        "initial_lr = lr_finder.best_lr\n",
        "\n",
        "# Print learning rate and loss\n",
        "print('Learning Rate:', initial_lr)\n",
        "print('Loss:', lr_finder.best_metric)\n",
        "\n",
        "# Plot learning rate vs loss\n",
        "lr_finder.plot()\n",
        "\n",
        "# Reset graph\n",
        "lr_finder.reset()"
      ],
      "execution_count": 0,
      "outputs": [
        {
          "output_type": "stream",
          "text": [
            "Learning Rate: 0.28840315031266056\n",
            "Loss: 0.3179086744785309\n"
          ],
          "name": "stdout"
        },
        {
          "output_type": "display_data",
          "data": {
            "image/png": "[encoded data removed]",
            "text/plain": [
              "<Figure size 432x288 with 1 Axes>"
            ]
          },
          "metadata": {
            "tags": [],
            "needs_background": "light"
          }
        }
      ]
    },
    {
      "cell_type": "code",
      "metadata": {
        "id": "BZU1Y-ewip9U",
        "colab_type": "code",
        "colab": {}
      },
      "source": [
        ""
      ],
      "execution_count": 0,
      "outputs": []
    }
  ]
}